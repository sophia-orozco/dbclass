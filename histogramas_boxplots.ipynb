#!/usr/bin/env python3
# -*- coding: utf-8 -*-
"""
Created on Fri Sep 20 13:58:42 2019

@author: Sophia Orozco
"""
import mysql.connector
import matplotlib.pyplot as plt
import pandas as pd

mydb = mysql.connector.connect(
  host="localhost",
  user="sophia",
  passwd="genomaliigh",
  database = "TraitsQLTs_Genetica")

mycursor = mydb.cursor()

mycursor.execute("select medida from Mediciones where tipo='altura'")
rows= mycursor.fetchall()
altura=list(rows)
altura=[i[0] for i in altura]

mycursor.execute("select medida from Mediciones where tipo='frente'")
rows= mycursor.fetchall()
frente=list(rows)
frente=[i[0] for i in frente]

mycursor.execute("select medida from Mediciones where tipo='brazo'")
rows= mycursor.fetchall()
brazo=list(rows)
brazo=[i[0] for i in brazo]

mycursor.execute("select medida from Mediciones where tipo='calzado'")
rows= mycursor.fetchall()
calzado=list(rows)
calzado=[i[0] for i in calzado]

mycursor.execute("select medida from Mediciones where tipo='sistolica'")
rows= mycursor.fetchall()
sistolica=list(rows)
sistolica=[i[0] for i in sistolica]

mycursor.execute("select medida from Mediciones where tipo='diastolica'")
rows= mycursor.fetchall()
diastolica=list(rows)
diastolica=[i[0] for i in diastolica]

fig, ((ax1,ax2,ax3),(ax4,ax5,ax6))=plt.subplots(2,3)

ax1.hist(altura,bins=15,facecolor='red')
ax1.set_title('altura')

ax2.hist(frente,bins=10,facecolor='pink')
ax2.set_title('frente')

ax3.hist(brazo,bins=10,facecolor='blue')
ax3.set_title('brazo')

ax4.hist(calzado,bins=8,facecolor='green')
ax4.set_title('calzado')

ax5.hist(sistolica,bins=8,facecolor='purple')
ax5.set_title('sistolica')

ax6.hist(diastolica,bins=8,facecolor='yellow')
ax6.set_title('diastolica')

#bloxplot de frente y brazo
fig, ((ax7),(ax8))=plt.subplots(1,2)

ax7.boxplot(frente)
ax7.set_title('boxplot de frente')

ax8.boxplot(brazo)
ax8.set_title('boxplot de brazo')

#bloxplot de cada persona
mycursor.execute("select medida, persona_id from Mediciones where tipo='frente' or tipo='brazo'")
rows= mycursor.fetchall()
pigmentacion=list(rows)
pigmentacion_med=[i[0] for i in pigmentacion]
persona=[i[1] for i in pigmentacion]

data_pig=pd.DataFrame(pigmentacion_med)
data_pig['persona']=persona

data_pig.boxplot(by='persona')

